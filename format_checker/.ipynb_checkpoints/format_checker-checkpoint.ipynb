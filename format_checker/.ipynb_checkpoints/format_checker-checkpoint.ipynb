{
 "cells": [
  {
   "cell_type": "code",
   "execution_count": 1,
   "metadata": {},
   "outputs": [],
   "source": [
    "import json"
   ]
  },
  {
   "cell_type": "code",
   "execution_count": 2,
   "metadata": {},
   "outputs": [],
   "source": [
    "def load_input_tweets(input_path):\n",
    "    tweets = {}\n",
    "    for line in open(input_path, encoding='utf-8').read().splitlines(): \n",
    "        tweet = json.loads(line)\n",
    "        tweets[tweet[\"tweet_id\"]] = tweet[\"text\"]\n",
    "    return tweets"
   ]
  },
  {
   "cell_type": "code",
   "execution_count": 3,
   "metadata": {},
   "outputs": [],
   "source": [
    "def check_format(out_path, tweets):\n",
    "    i = 0\n",
    "    errors = 0\n",
    "    for line in open(out_path, encoding='utf-8').read().splitlines(): \n",
    "        try:\n",
    "            tweet = json.loads(line)\n",
    "        except:  # includes JSONDecodeError                          \n",
    "            print(\"line {} is not in JSON format\".format(i+1))\n",
    "            errors +=1\n",
    "\n",
    "        if \"tweet_id\" not in tweet:\n",
    "            print(\"line {} has no attribute \\\"tweet_id\\\"\".format(i+1))\n",
    "            errors +=1\n",
    "        else:\n",
    "            it = tweet[\"tweet_id\"]\n",
    "\n",
    "        if \"location_mentions\" not in tweet:\n",
    "            print(\"line {} has no attribute \\\"location_mentions\\\"\".format(i+1))\n",
    "            errors +=1\n",
    "        else:\n",
    "            j = 0\n",
    "            for loc in tweet[\"location_mentions\"]:\n",
    "                if \"text\" not in loc:\n",
    "                    print(\"LM {} in line {} has no attribute \\\"text\\\"\".format(j+1, i+1))\n",
    "                else:\n",
    "                    tloc = loc[\"text\"]\n",
    "                    if \"start_offset\" not in loc:\n",
    "                        print(\"LM {} in line {} has no attribute \\\"start_offset\\\"\".format(j+1, i+1))\n",
    "                    else:\n",
    "                        sloc = loc[\"start_offset\"] \n",
    "                        if \"end_offset\" not in loc:\n",
    "                            print(\"LM {} in line {} has no attribute \\\"end_offset\\\"\".format(j+1, i+1))\n",
    "                        else:\n",
    "                            eloc = loc[\"end_offset\"]\n",
    "\n",
    "                            if tweets[it] and tweets[it][sloc:eloc] != tloc:\n",
    "                                print(\"LM \\\"{}\\\" doesn't exist in tweets {}, check the loc offsets\".format(tloc, it) )\n",
    "\n",
    "                    j += 1\n",
    "\n",
    "        i += 1\n",
    "\n",
    "    if errors > 0:\n",
    "        print(\"The output file has issues! Please fix issues above and run the checker again!\")\n",
    "    else:\n",
    "        print(\"The output file had passed all checks successfully!\")\n"
   ]
  },
  {
   "cell_type": "code",
   "execution_count": 4,
   "metadata": {},
   "outputs": [
    {
     "name": "stdout",
     "output_type": "stream",
     "text": [
      "line 1 has no attribute \"tweet_id\"\n",
      "line 1 has no attribute \"location_mentions\"\n",
      "line 2 has no attribute \"location_mentions\"\n",
      "line 3 has no attribute \"location_mentions\"\n",
      "LM 2 in line 4 has no attribute \"start_offset\"\n",
      "LM 3 in line 5 has no attribute \"end_offset\"\n",
      "line 7 is not in JSON format\n",
      "The output file has issues! Please fix issues above and run the checker again!\n"
     ]
    }
   ],
   "source": [
    "input_path = \"input.jsonl\"\n",
    "out_path = \"output-corrupted.jsonl\"\n",
    "\n",
    "tweets = load_input_tweets(input_path)\n",
    "check_format(out_path, tweets)"
   ]
  },
  {
   "cell_type": "code",
   "execution_count": 5,
   "metadata": {},
   "outputs": [
    {
     "name": "stdout",
     "output_type": "stream",
     "text": [
      "The output file had passed all checks successfully!\n"
     ]
    }
   ],
   "source": [
    "input_path = \"input.jsonl\"\n",
    "out_path = \"output-correct.jsonl\"\n",
    "\n",
    "tweets = load_input_tweets(input_path)\n",
    "check_format(out_path, tweets)"
   ]
  },
  {
   "cell_type": "code",
   "execution_count": null,
   "metadata": {},
   "outputs": [],
   "source": []
  }
 ],
 "metadata": {
  "kernelspec": {
   "display_name": "Python 3",
   "language": "python",
   "name": "python3"
  },
  "language_info": {
   "codemirror_mode": {
    "name": "ipython",
    "version": 3
   },
   "file_extension": ".py",
   "mimetype": "text/x-python",
   "name": "python",
   "nbconvert_exporter": "python",
   "pygments_lexer": "ipython3",
   "version": "3.7.6"
  }
 },
 "nbformat": 4,
 "nbformat_minor": 4
}
